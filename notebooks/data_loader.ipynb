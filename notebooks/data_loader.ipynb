{
 "cells": [
  {
   "cell_type": "code",
   "execution_count": 1,
   "id": "44fb3cca",
   "metadata": {},
   "outputs": [
    {
     "name": "stdout",
     "output_type": "stream",
     "text": [
      "✅ Using: cuda, NVIDIA GeForce RTX 4050 Laptop GPU\n"
     ]
    }
   ],
   "source": [
    "import torch\n",
    "import os\n",
    "import shutil\n",
    "import random\n",
    "from pathlib import Path\n",
    "from torchvision import datasets, transforms\n",
    "from torch.utils.data import DataLoader, random_split\n",
    "\n",
    "device = torch.device(\"cuda\" if torch.cuda.is_available() else \"cpu\")\n",
    "print(f\"✅ Using: {device}, {torch.cuda.get_device_name(0) if torch.cuda.is_available() else 'CPU'}\")\n",
    "\n",
    "data_raw_dir = Path(\"../data/raw/PlantVillage\")   \n",
    "data_split_dir = Path(\"../data/splits\")       \n",
    "data_split_dir.mkdir(parents=True, exist_ok=True)\n"
   ]
  },
  {
   "cell_type": "code",
   "execution_count": 2,
   "id": "c1f45640",
   "metadata": {},
   "outputs": [
    {
     "name": "stdout",
     "output_type": "stream",
     "text": [
      "Found 38 classes.\n",
      "[Apple___Apple_scab] → Train: 441, Val: 126, Test: 63\n",
      "[Apple___Black_rot] → Train: 434, Val: 124, Test: 63\n",
      "[Apple___Cedar_apple_rust] → Train: 192, Val: 55, Test: 28\n",
      "[Apple___healthy] → Train: 1151, Val: 329, Test: 165\n",
      "[Blueberry___healthy] → Train: 1051, Val: 300, Test: 151\n",
      "[Cherry_(including_sour)___healthy] → Train: 597, Val: 170, Test: 87\n",
      "[Cherry_(including_sour)___Powdery_mildew] → Train: 736, Val: 210, Test: 106\n",
      "[Corn_(maize)___Cercospora_leaf_spot Gray_leaf_spot] → Train: 359, Val: 102, Test: 52\n",
      "[Corn_(maize)___Common_rust_] → Train: 834, Val: 238, Test: 120\n",
      "[Corn_(maize)___healthy] → Train: 813, Val: 232, Test: 117\n",
      "[Corn_(maize)___Northern_Leaf_Blight] → Train: 689, Val: 197, Test: 99\n",
      "[Grape___Black_rot] → Train: 826, Val: 236, Test: 118\n",
      "[Grape___Esca_(Black_Measles)] → Train: 968, Val: 276, Test: 139\n",
      "[Grape___healthy] → Train: 296, Val: 84, Test: 43\n",
      "[Grape___Leaf_blight_(Isariopsis_Leaf_Spot)] → Train: 753, Val: 215, Test: 108\n",
      "[Orange___Haunglongbing_(Citrus_greening)] → Train: 3854, Val: 1101, Test: 552\n",
      "[Peach___Bacterial_spot] → Train: 1607, Val: 459, Test: 231\n",
      "[Peach___healthy] → Train: 251, Val: 72, Test: 37\n",
      "[Pepper,_bell___Bacterial_spot] → Train: 697, Val: 199, Test: 101\n",
      "[Pepper,_bell___healthy] → Train: 1034, Val: 295, Test: 149\n",
      "[Potato___Early_blight] → Train: 700, Val: 200, Test: 100\n",
      "[Potato___healthy] → Train: 106, Val: 30, Test: 16\n",
      "[Potato___Late_blight] → Train: 700, Val: 200, Test: 100\n",
      "[Raspberry___healthy] → Train: 259, Val: 74, Test: 38\n",
      "[Soybean___healthy] → Train: 3563, Val: 1018, Test: 509\n",
      "[Squash___Powdery_mildew] → Train: 1284, Val: 367, Test: 184\n",
      "[Strawberry___healthy] → Train: 319, Val: 91, Test: 46\n",
      "[Strawberry___Leaf_scorch] → Train: 776, Val: 221, Test: 112\n",
      "[Tomato___Bacterial_spot] → Train: 1488, Val: 425, Test: 214\n",
      "[Tomato___Early_blight] → Train: 700, Val: 200, Test: 100\n",
      "[Tomato___healthy] → Train: 1113, Val: 318, Test: 160\n",
      "[Tomato___Late_blight] → Train: 1335, Val: 381, Test: 192\n",
      "[Tomato___Leaf_Mold] → Train: 666, Val: 190, Test: 96\n",
      "[Tomato___Septoria_leaf_spot] → Train: 1239, Val: 354, Test: 178\n",
      "[Tomato___Spider_mites Two-spotted_spider_mite] → Train: 1173, Val: 335, Test: 168\n",
      "[Tomato___Target_Spot] → Train: 982, Val: 280, Test: 142\n",
      "[Tomato___Tomato_mosaic_virus] → Train: 261, Val: 74, Test: 38\n",
      "[Tomato___Tomato_Yellow_Leaf_Curl_Virus] → Train: 3749, Val: 1071, Test: 537\n"
     ]
    }
   ],
   "source": [
    "def split_dataset(raw_dir, split_dir, train_ratio=0.7, val_ratio=0.2, test_ratio=0.1):\n",
    "    assert abs(train_ratio + val_ratio + test_ratio - 1.0) < 1e-6, \"Ratios must sum to 1\"\n",
    "\n",
    "    classes = [d.name for d in raw_dir.iterdir() if d.is_dir()]\n",
    "    print(f\"Found {len(classes)} classes.\")\n",
    "\n",
    "    for cls in classes:\n",
    "        cls_dir = raw_dir / cls\n",
    "        images = list(cls_dir.glob(\"*.jpg\")) + list(cls_dir.glob(\"*.png\"))  \n",
    "        random.shuffle(images)\n",
    "\n",
    "        n_total = len(images)\n",
    "        n_train = int(train_ratio * n_total)\n",
    "        n_val = int(val_ratio * n_total)\n",
    "        n_test = n_total - n_train - n_val\n",
    "\n",
    "        splits = {\n",
    "            \"train\": images[:n_train],\n",
    "            \"val\": images[n_train:n_train+n_val],\n",
    "            \"test\": images[n_train+n_val:]\n",
    "        }\n",
    "\n",
    "        for split_name, split_images in splits.items():\n",
    "            split_cls_dir = split_dir / split_name / cls\n",
    "            split_cls_dir.mkdir(parents=True, exist_ok=True)\n",
    "\n",
    "            for img_path in split_images:\n",
    "                target_path = split_cls_dir / img_path.name\n",
    "                if not target_path.exists():\n",
    "                    shutil.copy(img_path, target_path)\n",
    "\n",
    "        print(f\"[{cls}] → Train: {n_train}, Val: {n_val}, Test: {n_test}\")\n",
    "\n",
    "#split_dataset(data_raw_dir, data_split_dir) # Run this line only once, then comment it\n"
   ]
  }
 ],
 "metadata": {
  "kernelspec": {
   "display_name": "pytorch-gpu",
   "language": "python",
   "name": "python3"
  },
  "language_info": {
   "codemirror_mode": {
    "name": "ipython",
    "version": 3
   },
   "file_extension": ".py",
   "mimetype": "text/x-python",
   "name": "python",
   "nbconvert_exporter": "python",
   "pygments_lexer": "ipython3",
   "version": "3.10.17"
  }
 },
 "nbformat": 4,
 "nbformat_minor": 5
}
